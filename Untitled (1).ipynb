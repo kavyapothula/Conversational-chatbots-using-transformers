{
 "cells": [
  {
   "cell_type": "markdown",
   "metadata": {},
   "source": [
    "   ##          SUPER RESOLUTION"
   ]
  },
  {
   "cell_type": "markdown",
   "metadata": {},
   "source": [
    "##### SRCNN "
   ]
  },
  {
   "cell_type": "code",
   "execution_count": 16,
   "metadata": {},
   "outputs": [],
   "source": [
    "import torch.nn as nn\n",
    "import torch.nn.functional as F\n",
    "class SRCNN(nn.Module):\n",
    "    def __init__(self):\n",
    "        super(SRCNN, self).__init__()\n",
    "        self.conv1 = nn.Conv2d(1, 64, kernel_size=9, padding=2, padding_mode='replicate') # padding mode same as original Caffe code\n",
    "        self.conv2 = nn.Conv2d(64, 32, kernel_size=1, padding=2, padding_mode='replicate')\n",
    "        self.conv3 = nn.Conv2d(32, 1, kernel_size=5, padding=2, padding_mode='replicate')\n",
    "    def forward(self, x):\n",
    "        x = F.relu(self.conv1(x))\n",
    "        x = F.relu(self.conv2(x))\n",
    "        x = self.conv3(x)\n",
    "        return x"
   ]
  },
  {
   "cell_type": "markdown",
   "metadata": {},
   "source": [
    "#### Importing libraries"
   ]
  },
  {
   "cell_type": "code",
   "execution_count": 17,
   "metadata": {},
   "outputs": [],
   "source": [
    "import torch\n",
    "import matplotlib\n",
    "import matplotlib.pyplot as plt\n",
    "import time\n",
    "import h5py\n",
    "import srcnn\n",
    "import torch.optim as optim\n",
    "import torch.nn as nn\n",
    "import numpy as np\n",
    "import math\n",
    "from torch.utils.data import DataLoader, Dataset\n",
    "from tqdm import tqdm\n",
    "from sklearn.model_selection import train_test_split\n",
    "from torchvision.utils import save_image\n",
    "matplotlib.style.use('ggplot')"
   ]
  },
  {
   "cell_type": "code",
   "execution_count": 18,
   "metadata": {},
   "outputs": [
    {
     "name": "stderr",
     "output_type": "stream",
     "text": [
      "C:\\Users\\chari\\AppData\\Local\\Temp\\ipykernel_11512\\3698709442.py:11: H5pyDeprecationWarning: The default file mode will change to 'r' (read-only) in h5py 3.0. To suppress this warning, pass the mode you need to h5py.File(), or set the global default h5.get_config().default_file_mode, or set the environment variable H5PY_DEFAULT_READONLY=1. Available modes are: 'r', 'r+', 'w', 'w-'/'x', 'a'. See the docs for details.\n",
      "  file = h5py.File('./input/train_mscale.h5')\n",
      "  0%|                                                                                          | 0/255 [00:00<?, ?it/s]"
     ]
    },
    {
     "name": "stdout",
     "output_type": "stream",
     "text": [
      "Training samples:  16368\n",
      "Validation samples:  5456\n",
      "Computation device:  cpu\n",
      "SRCNN(\n",
      "  (conv1): Conv2d(1, 64, kernel_size=(9, 9), stride=(1, 1), padding=(2, 2), padding_mode=replicate)\n",
      "  (conv2): Conv2d(64, 32, kernel_size=(1, 1), stride=(1, 1), padding=(2, 2), padding_mode=replicate)\n",
      "  (conv3): Conv2d(32, 1, kernel_size=(5, 5), stride=(1, 1), padding=(2, 2), padding_mode=replicate)\n",
      ")\n",
      "Epoch 1 of 2\n"
     ]
    },
    {
     "name": "stderr",
     "output_type": "stream",
     "text": [
      "256it [00:46,  5.46it/s]                                                                                               \n",
      "86it [00:05, 15.87it/s]                                                                                                \n",
      "  0%|                                                                                          | 0/255 [00:00<?, ?it/s]"
     ]
    },
    {
     "name": "stdout",
     "output_type": "stream",
     "text": [
      "Train PSNR: 24.855\n",
      "Val PSNR: 26.790\n",
      "Epoch 2 of 2\n"
     ]
    },
    {
     "name": "stderr",
     "output_type": "stream",
     "text": [
      "256it [00:47,  5.39it/s]                                                                                               \n",
      "86it [00:05, 16.65it/s]                                                                                                "
     ]
    },
    {
     "name": "stdout",
     "output_type": "stream",
     "text": [
      "Train PSNR: 26.726\n",
      "Val PSNR: 27.096\n",
      "Finished training in: 1.750 minutes\n"
     ]
    },
    {
     "name": "stderr",
     "output_type": "stream",
     "text": [
      "\n"
     ]
    }
   ],
   "source": [
    "# learning parameters\n",
    "batch_size = 64  # batch size, reduce if facing OOM error\n",
    "epochs = 2  # number of epochs to train the SRCNN model for\n",
    "lr = 0.001  # the learning rate\n",
    "device = 'cuda' if torch.cuda.is_available() else 'cpu'\n",
    "\n",
    "# input image dimensions\n",
    "img_rows, img_cols = 33, 33\n",
    "out_rows, out_cols = 33, 33\n",
    "\n",
    "file = h5py.File('./input/train_mscale.h5')\n",
    "# `in_train` has shape (21884, 33, 33, 1) which corresponds to\n",
    "# 21884 image patches of 33 pixels height & width and 1 color channel\n",
    "in_train = file['data'][:]  # the training data\n",
    "out_train = file['label'][:]  # the training labels\n",
    "file.close()\n",
    "# change the values to float32\n",
    "in_train = in_train.astype('float32')\n",
    "out_train = out_train.astype('float32')\n",
    "\n",
    "(x_train, x_val, y_train, y_val) = train_test_split(\n",
    "    in_train, out_train, test_size=0.25)\n",
    "print('Training samples: ', x_train.shape[0])\n",
    "print('Validation samples: ', x_val.shape[0])\n",
    "\n",
    "# the dataset module\n",
    "\n",
    "\n",
    "class SRCNNDataset(Dataset):\n",
    "    def __init__(self, image_data, labels):\n",
    "        self.image_data = image_data\n",
    "        self.labels = labels\n",
    "\n",
    "    def __len__(self):\n",
    "        return (len(self.image_data))\n",
    "\n",
    "    def __getitem__(self, index):\n",
    "        image = self.image_data[index]\n",
    "        label = self.labels[index]\n",
    "        return (\n",
    "            torch.tensor(image, dtype=torch.float),\n",
    "            torch.tensor(label, dtype=torch.float)\n",
    "        )\n",
    "\n",
    "\n",
    "# train and validation data\n",
    "train_data = SRCNNDataset(x_train, y_train)\n",
    "val_data = SRCNNDataset(x_val, y_val)\n",
    "# train and validation loaders\n",
    "train_loader = DataLoader(train_data, batch_size=batch_size)\n",
    "val_loader = DataLoader(val_data, batch_size=batch_size)\n",
    "\n",
    "# initialize the model\n",
    "print('Computation device: ', device)\n",
    "model = srcnn.SRCNN().to(device)\n",
    "print(model)\n",
    "\n",
    "# optimizer\n",
    "optimizer = optim.Adam(model.parameters(), lr=lr)\n",
    "# loss function\n",
    "criterion = nn.MSELoss()\n",
    "\n",
    "\n",
    "def psnr(label, outputs, max_val=1.):\n",
    "    \"\"\"\n",
    "    Compute Peak Signal to Noise Ratio (the higher the better).\n",
    "    PSNR = 20 * log10(MAXp) - 10 * log10(MSE).\n",
    "    https://en.wikipedia.org/wiki/Peak_signal-to-noise_ratio#Definition\n",
    "    First we need to convert torch tensors to NumPy operable.\n",
    "    \"\"\"\n",
    "    label = label.cpu().detach().numpy()\n",
    "    outputs = outputs.cpu().detach().numpy()\n",
    "    img_diff = outputs - label\n",
    "    rmse = math.sqrt(np.mean((img_diff) ** 2))\n",
    "    if rmse == 0:\n",
    "        return 100\n",
    "    else:\n",
    "        PSNR = 20 * math.log10(max_val / rmse)\n",
    "        return PSNR\n",
    "\n",
    "\n",
    "def train(model, dataloader):\n",
    "    model.train()\n",
    "    running_loss = 0.0\n",
    "    running_psnr = 0.0\n",
    "    for bi, data in tqdm(enumerate(dataloader), total=int(len(train_data)/dataloader.batch_size)):\n",
    "        image_data = data[0].to(device)\n",
    "        label = data[1].to(device)\n",
    "\n",
    "        # zero grad the optimizer\n",
    "        optimizer.zero_grad()\n",
    "        outputs = model(image_data)\n",
    "        loss = criterion(outputs, label)\n",
    "        # backpropagation\n",
    "        loss.backward()\n",
    "        # update the parameters\n",
    "        optimizer.step()\n",
    "        # add loss of each item (total items in a batch = batch size)\n",
    "        running_loss += loss.item()\n",
    "        # calculate batch psnr (once every `batch_size` iterations)\n",
    "        batch_psnr = psnr(label, outputs)\n",
    "        running_psnr += batch_psnr\n",
    "    final_loss = running_loss/len(dataloader.dataset)\n",
    "    final_psnr = running_psnr/int(len(train_data)/dataloader.batch_size)\n",
    "    return final_loss, final_psnr\n",
    "\n",
    "\n",
    "def validate(model, dataloader, epoch):\n",
    "    model.eval()\n",
    "    running_loss = 0.0\n",
    "    running_psnr = 0.0\n",
    "    with torch.no_grad():\n",
    "        for bi, data in tqdm(enumerate(dataloader), total=int(len(val_data)/dataloader.batch_size)):\n",
    "            image_data = data[0].to(device)\n",
    "            label = data[1].to(device)\n",
    "\n",
    "            outputs = model(image_data)\n",
    "            loss = criterion(outputs, label)\n",
    "            # add loss of each item (total items in a batch = batch size)\n",
    "            running_loss += loss.item()\n",
    "            # calculate batch psnr (once every `batch_size` iterations)\n",
    "            batch_psnr = psnr(label, outputs)\n",
    "            running_psnr += batch_psnr\n",
    "        outputs = outputs.cpu()\n",
    "        save_image(\n",
    "            outputs, \"./outputs/val_sr%d.png\" % epoch)\n",
    "    final_loss = running_loss/len(dataloader.dataset)\n",
    "    final_psnr = running_psnr/int(len(val_data)/dataloader.batch_size)\n",
    "    return final_loss, final_psnr\n",
    "\n",
    "\n",
    "train_loss, val_loss = [], []\n",
    "train_psnr, val_psnr = [], []\n",
    "start = time.time()\n",
    "for epoch in range(epochs):\n",
    "    print(f\"Epoch {epoch + 1} of {epochs}\")\n",
    "    train_epoch_loss, train_epoch_psnr = train(model, train_loader)\n",
    "    val_epoch_loss, val_epoch_psnr = validate(model, val_loader, epoch)\n",
    "    print(f\"Train PSNR: {train_epoch_psnr:.3f}\")\n",
    "    print(f\"Val PSNR: {val_epoch_psnr:.3f}\")\n",
    "    train_loss.append(train_epoch_loss)\n",
    "    train_psnr.append(train_epoch_psnr)\n",
    "    val_loss.append(val_epoch_loss)\n",
    "    val_psnr.append(val_epoch_psnr)\n",
    "end = time.time()\n",
    "print(f\"Finished training in: {((end-start)/60):.3f} minutes\")\n"
   ]
  },
  {
   "cell_type": "markdown",
   "metadata": {},
   "source": [
    "#### Plotting"
   ]
  },
  {
   "cell_type": "code",
   "execution_count": 22,
   "metadata": {},
   "outputs": [
    {
     "data": {
      "image/png": "[encoded data removed]",
      "text/plain": [
       "<Figure size 720x504 with 1 Axes>"
      ]
     },
     "metadata": {},
     "output_type": "display_data"
    },
    {
     "data": {
      "image/png": "[encoded data removed]",
      "text/plain": [
       "<Figure size 720x504 with 1 Axes>"
      ]
     },
     "metadata": {},
     "output_type": "display_data"
    },
    {
     "name": "stdout",
     "output_type": "stream",
     "text": [
      "Saving model...\n"
     ]
    }
   ],
   "source": [
    "# loss plots\n",
    "plt.figure(figsize=(10, 7))\n",
    "plt.plot(train_loss, color='orange', label='train loss')\n",
    "plt.plot(val_loss, color='red', label='validataion loss')\n",
    "plt.xlabel('Epochs')\n",
    "plt.ylabel('Loss')\n",
    "plt.legend()\n",
    "plt.savefig('./outputs/loss.png')\n",
    "plt.show()\n",
    "# psnr plots\n",
    "plt.figure(figsize=(10, 7))\n",
    "plt.plot(train_psnr, color='green', label='train PSNR dB')\n",
    "plt.plot(val_psnr, color='blue', label='validataion PSNR dB')\n",
    "plt.xlabel('Epochs')\n",
    "plt.ylabel('PSNR (dB)')\n",
    "plt.legend()\n",
    "plt.savefig('./outputs/psnr.png')\n",
    "plt.show()\n",
    "# save the model to disk\n",
    "print('Saving model...')\n",
    "torch.save(model.state_dict(), './outputs/model.pth')\n"
   ]
  },
  {
   "cell_type": "code",
   "execution_count": 20,
   "metadata": {},
   "outputs": [
    {
     "data": {
      "text/plain": [
       "<All keys matched successfully>"
      ]
     },
     "execution_count": 20,
     "metadata": {},
     "output_type": "execute_result"
    }
   ],
   "source": [
    "device = 'cuda' if torch.cuda.is_available() else 'cpu'\n",
    "model = srcnn.SRCNN().to(device)\n",
    "model.load_state_dict(torch.load(\n",
    "    './outputs/model.pth'))\n",
    "\n"
   ]
  },
  {
   "cell_type": "markdown",
   "metadata": {},
   "source": [
    "#### Output"
   ]
  },
  {
   "cell_type": "code",
   "execution_count": 21,
   "metadata": {},
   "outputs": [
    {
     "name": "stdout",
     "output_type": "stream",
     "text": [
      "(512, 512, 1)\n",
      "(288, 288, 1)\n",
      "(256, 256, 1)\n",
      "(280, 280, 1)\n",
      "(240, 240, 1)\n",
      "(270, 271, 1)\n",
      "(344, 228, 1)\n"
     ]
    }
   ],
   "source": [
    "import glob as glob\n",
    "import cv2\n",
    "import os\n",
    "image_paths = glob.glob('./input/Set5\\*')\n",
    "for image_path in image_paths:\n",
    "    image = cv2.imread(image_path, cv2.IMREAD_COLOR)\n",
    "    test_image_name = image_path.split(os.path.sep)[-1].split('.')[0]\n",
    "    image = cv2.cvtColor(image, cv2.COLOR_BGR2GRAY)\n",
    "    image = image.reshape(image.shape[0], image.shape[1], 1)\n",
    "    cv2.imwrite(\n",
    "        f\"./outputs/test_{test_image_name}.png\", image)\n",
    "    image = image / 255.  # normalize the pixel values\n",
    "    cv2.imshow('Greyscale image', image)\n",
    "    cv2.waitKey(0)\n",
    "    model.eval()\n",
    "    with torch.no_grad():\n",
    "        image = np.transpose(image, (2, 0, 1)).astype(np.float32)\n",
    "        image = torch.tensor(image, dtype=torch.float).to(device)\n",
    "        image = image.unsqueeze(0)\n",
    "        outputs = model(image)\n",
    "    outputs = outputs.cpu()\n",
    "    save_image(\n",
    "        outputs, f\"./outputs/output_{test_image_name}.png\")\n",
    "    outputs = outputs.detach().numpy()\n",
    "    outputs = outputs.reshape(\n",
    "        outputs.shape[2], outputs.shape[3], outputs.shape[1])\n",
    "    print(outputs.shape)\n",
    "    cv2.imshow('Output', outputs)\n",
    "    cv2.waitKey(0)\n"
   ]
  },
  {
   "cell_type": "code",
   "execution_count": null,
   "metadata": {},
   "outputs": [],
   "source": []
  }
 ],
 "metadata": {
  "kernelspec": {
   "display_name": "Python 3",
   "language": "python",
   "name": "python3"
  },
  "language_info": {
   "codemirror_mode": {
    "name": "ipython",
    "version": 3
   },
   "file_extension": ".py",
   "mimetype": "text/x-python",
   "name": "python",
   "nbconvert_exporter": "python",
   "pygments_lexer": "ipython3",
   "version": "3.7.3"
  }
 },
 "nbformat": 4,
 "nbformat_minor": 5
}
